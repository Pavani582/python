{
 "cells": [
  {
   "cell_type": "markdown",
   "id": "968331b4-7266-40a3-96d0-29d543b6a835",
   "metadata": {},
   "source": [
    "# STRING"
   ]
  },
  {
   "cell_type": "markdown",
   "id": "18ca7f16-dd8b-486e-8ea2-063be1de7871",
   "metadata": {},
   "source": [
    "### string indexing"
   ]
  },
  {
   "cell_type": "code",
   "execution_count": 2,
   "id": "1b97e63a-cdf4-4567-a74f-ad54050f07a4",
   "metadata": {},
   "outputs": [
    {
     "data": {
      "text/plain": [
       "'hellopython'"
      ]
     },
     "execution_count": 2,
     "metadata": {},
     "output_type": "execute_result"
    }
   ],
   "source": [
    "st='hellopython'\n",
    "st"
   ]
  },
  {
   "cell_type": "code",
   "execution_count": 4,
   "id": "df465b28-8a3d-4f39-8c71-611ce27931b5",
   "metadata": {},
   "outputs": [
    {
     "data": {
      "text/plain": [
       "'h'"
      ]
     },
     "execution_count": 4,
     "metadata": {},
     "output_type": "execute_result"
    }
   ],
   "source": [
    "st[0] #forward indexing"
   ]
  },
  {
   "cell_type": "code",
   "execution_count": 6,
   "id": "4f0713c9-dd03-4958-b14d-d15002501498",
   "metadata": {},
   "outputs": [
    {
     "data": {
      "text/plain": [
       "'n'"
      ]
     },
     "execution_count": 6,
     "metadata": {},
     "output_type": "execute_result"
    }
   ],
   "source": [
    "st[-1] #backward indexing"
   ]
  },
  {
   "cell_type": "code",
   "execution_count": 8,
   "id": "2c2f81c0-e0b9-46c4-8474-ae74cc9c0c30",
   "metadata": {},
   "outputs": [
    {
     "ename": "IndexError",
     "evalue": "string index out of range",
     "output_type": "error",
     "traceback": [
      "\u001b[1;31m---------------------------------------------------------------------------\u001b[0m",
      "\u001b[1;31mIndexError\u001b[0m                                Traceback (most recent call last)",
      "Cell \u001b[1;32mIn[8], line 1\u001b[0m\n\u001b[1;32m----> 1\u001b[0m st[\u001b[38;5;241m20\u001b[39m]\n",
      "\u001b[1;31mIndexError\u001b[0m: string index out of range"
     ]
    }
   ],
   "source": [
    "st[20]"
   ]
  },
  {
   "cell_type": "code",
   "execution_count": 9,
   "id": "00f41fc2-7f79-4785-b26b-155dfb2135b2",
   "metadata": {},
   "outputs": [
    {
     "data": {
      "text/plain": [
       "'y'"
      ]
     },
     "execution_count": 9,
     "metadata": {},
     "output_type": "execute_result"
    }
   ],
   "source": [
    "st[6] "
   ]
  },
  {
   "cell_type": "markdown",
   "id": "e8971d78-6dc7-4a01-974b-0e6fe11c7c62",
   "metadata": {},
   "source": [
    "### string slicing"
   ]
  },
  {
   "cell_type": "code",
   "execution_count": 10,
   "id": "7f654d24-cbe8-4946-b607-a5051711b27a",
   "metadata": {},
   "outputs": [
    {
     "data": {
      "text/plain": [
       "'hellopython'"
      ]
     },
     "execution_count": 10,
     "metadata": {},
     "output_type": "execute_result"
    }
   ],
   "source": [
    "st"
   ]
  },
  {
   "cell_type": "code",
   "execution_count": 11,
   "id": "f2829ddd-69d5-4a55-a68f-e11ef8539c70",
   "metadata": {},
   "outputs": [
    {
     "data": {
      "text/plain": [
       "'hellopython'"
      ]
     },
     "execution_count": 11,
     "metadata": {},
     "output_type": "execute_result"
    }
   ],
   "source": [
    "st[:]"
   ]
  },
  {
   "cell_type": "code",
   "execution_count": 14,
   "id": "87ed6088-515e-489d-ae7d-2c09bd01a1d9",
   "metadata": {},
   "outputs": [
    {
     "data": {
      "text/plain": [
       "'pytho'"
      ]
     },
     "execution_count": 14,
     "metadata": {},
     "output_type": "execute_result"
    }
   ],
   "source": [
    "st[5:10] #remember n-1 formula"
   ]
  },
  {
   "cell_type": "code",
   "execution_count": 15,
   "id": "a4d05aa2-bff7-4f2d-bf36-355473fe63b5",
   "metadata": {},
   "outputs": [
    {
     "data": {
      "text/plain": [
       "'python'"
      ]
     },
     "execution_count": 15,
     "metadata": {},
     "output_type": "execute_result"
    }
   ],
   "source": [
    "st[5:11]"
   ]
  },
  {
   "cell_type": "code",
   "execution_count": 16,
   "id": "fd01bbab-bcfc-47f9-86f2-d2e77d1318da",
   "metadata": {},
   "outputs": [
    {
     "data": {
      "text/plain": [
       "'python'"
      ]
     },
     "execution_count": 16,
     "metadata": {},
     "output_type": "execute_result"
    }
   ],
   "source": [
    "st[5:12]"
   ]
  },
  {
   "cell_type": "code",
   "execution_count": 18,
   "id": "03e8d5ab-ac24-4ef7-95d8-28dd52a267d6",
   "metadata": {},
   "outputs": [
    {
     "data": {
      "text/plain": [
       "'python'"
      ]
     },
     "execution_count": 18,
     "metadata": {},
     "output_type": "execute_result"
    }
   ],
   "source": [
    "st[5:13]"
   ]
  },
  {
   "cell_type": "code",
   "execution_count": 19,
   "id": "93f97167-6d1f-465b-9340-d8e0172a1e81",
   "metadata": {},
   "outputs": [
    {
     "data": {
      "text/plain": [
       "'fine'"
      ]
     },
     "execution_count": 19,
     "metadata": {},
     "output_type": "execute_result"
    }
   ],
   "source": [
    "st1='fine'\n",
    "st1"
   ]
  },
  {
   "cell_type": "code",
   "execution_count": 20,
   "id": "98058d8a-129d-4f20-be15-1b697b18d607",
   "metadata": {},
   "outputs": [
    {
     "data": {
      "text/plain": [
       "'dfin'"
      ]
     },
     "execution_count": 20,
     "metadata": {},
     "output_type": "execute_result"
    }
   ],
   "source": [
    "'d'+st1[:3]"
   ]
  },
  {
   "cell_type": "code",
   "execution_count": 21,
   "id": "150c3a8b-a1af-49aa-9bbb-2b5d1775e1f2",
   "metadata": {},
   "outputs": [
    {
     "data": {
      "text/plain": [
       "'dine'"
      ]
     },
     "execution_count": 21,
     "metadata": {},
     "output_type": "execute_result"
    }
   ],
   "source": [
    "'d'+st1[1:]"
   ]
  },
  {
   "cell_type": "code",
   "execution_count": 22,
   "id": "6ed3e449-1aa1-4c43-844a-23908ad25d0e",
   "metadata": {},
   "outputs": [
    {
     "data": {
      "text/plain": [
       "'alexblur'"
      ]
     },
     "execution_count": 22,
     "metadata": {},
     "output_type": "execute_result"
    }
   ],
   "source": [
    "'alex'+'blur'"
   ]
  },
  {
   "cell_type": "code",
   "execution_count": 23,
   "id": "dbb524ec-c28f-40fa-9790-5b74025404d7",
   "metadata": {},
   "outputs": [
    {
     "data": {
      "text/plain": [
       "'alexsiripavs'"
      ]
     },
     "execution_count": 23,
     "metadata": {},
     "output_type": "execute_result"
    }
   ],
   "source": [
    "'alex'+'siri'+'pavs'"
   ]
  },
  {
   "cell_type": "code",
   "execution_count": 24,
   "id": "c342b937-cb04-444f-af7a-89a37b899aeb",
   "metadata": {},
   "outputs": [
    {
     "data": {
      "text/plain": [
       "'nareshit'"
      ]
     },
     "execution_count": 24,
     "metadata": {},
     "output_type": "execute_result"
    }
   ],
   "source": [
    "st2='nareshit'\n",
    "st2"
   ]
  },
  {
   "cell_type": "code",
   "execution_count": 25,
   "id": "82dc4cdd-9d74-4797-882b-49ead678ad32",
   "metadata": {},
   "outputs": [
    {
     "data": {
      "text/plain": [
       "'nareshit'"
      ]
     },
     "execution_count": 25,
     "metadata": {},
     "output_type": "execute_result"
    }
   ],
   "source": [
    "st2[:]"
   ]
  },
  {
   "cell_type": "code",
   "execution_count": 26,
   "id": "c6145aed-4c64-46e2-82d8-e9f0b7d15718",
   "metadata": {},
   "outputs": [
    {
     "data": {
      "text/plain": [
       "'ares'"
      ]
     },
     "execution_count": 26,
     "metadata": {},
     "output_type": "execute_result"
    }
   ],
   "source": [
    "st2[1:5]"
   ]
  },
  {
   "cell_type": "code",
   "execution_count": 27,
   "id": "b325fe6c-9258-4974-b885-227314d1bdb3",
   "metadata": {},
   "outputs": [
    {
     "name": "stdout",
     "output_type": "stream",
     "text": [
      "nareshit\n",
      "res\n",
      "nares\n"
     ]
    }
   ],
   "source": [
    "print(st2[:])\n",
    "print(st2[2:5])\n",
    "print(st2[:5])"
   ]
  },
  {
   "cell_type": "code",
   "execution_count": 28,
   "id": "48ae3a4f-6949-406f-81d7-e036e6379a5f",
   "metadata": {},
   "outputs": [
    {
     "data": {
      "text/plain": [
       "'eshi'"
      ]
     },
     "execution_count": 28,
     "metadata": {},
     "output_type": "execute_result"
    }
   ],
   "source": [
    "st2[-5:-1]"
   ]
  },
  {
   "cell_type": "markdown",
   "id": "53ca246e-516e-4d4b-9751-02b84b27de9c",
   "metadata": {},
   "source": [
    "### ADVANCED SLICING"
   ]
  },
  {
   "cell_type": "code",
   "execution_count": 29,
   "id": "da448045-d676-4778-81b5-2e9d76e9d1aa",
   "metadata": {},
   "outputs": [
    {
     "data": {
      "text/plain": [
       "'nareshit'"
      ]
     },
     "execution_count": 29,
     "metadata": {},
     "output_type": "execute_result"
    }
   ],
   "source": [
    "st2"
   ]
  },
  {
   "cell_type": "code",
   "execution_count": 30,
   "id": "8686bca1-03ea-4c14-9ab8-e38e96ded3fe",
   "metadata": {},
   "outputs": [
    {
     "data": {
      "text/plain": [
       "'tihseran'"
      ]
     },
     "execution_count": 30,
     "metadata": {},
     "output_type": "execute_result"
    }
   ],
   "source": [
    "st2[::-1] #reverse"
   ]
  },
  {
   "cell_type": "code",
   "execution_count": 31,
   "id": "23381bfd-ba6b-4103-8a19-d8ad0181277c",
   "metadata": {},
   "outputs": [
    {
     "data": {
      "text/plain": [
       "'nrsi'"
      ]
     },
     "execution_count": 31,
     "metadata": {},
     "output_type": "execute_result"
    }
   ],
   "source": [
    "st2[0:11:2] #with 2 gaps"
   ]
  },
  {
   "cell_type": "code",
   "execution_count": 32,
   "id": "8d7c73b8-a218-49f3-bc7c-d9a37fb06a83",
   "metadata": {},
   "outputs": [
    {
     "data": {
      "text/plain": [
       "'ast'"
      ]
     },
     "execution_count": 32,
     "metadata": {},
     "output_type": "execute_result"
    }
   ],
   "source": [
    "st2[1:8:3]"
   ]
  },
  {
   "cell_type": "code",
   "execution_count": 33,
   "id": "7723a10d-d7a0-4b36-8938-9582dcfdb441",
   "metadata": {},
   "outputs": [
    {
     "data": {
      "text/plain": [
       "'thea'"
      ]
     },
     "execution_count": 33,
     "metadata": {},
     "output_type": "execute_result"
    }
   ],
   "source": [
    "st2[::-2]"
   ]
  },
  {
   "cell_type": "code",
   "execution_count": 34,
   "id": "bdc57963-f68d-4d9a-9649-8ffe3536dc28",
   "metadata": {},
   "outputs": [
    {
     "data": {
      "text/plain": [
       "30"
      ]
     },
     "execution_count": 34,
     "metadata": {},
     "output_type": "execute_result"
    }
   ],
   "source": [
    "n1=10\n",
    "n2=20\n",
    "n1+n2"
   ]
  },
  {
   "cell_type": "code",
   "execution_count": 35,
   "id": "18711a0e-bdd7-4095-b896-96242a8cbef7",
   "metadata": {},
   "outputs": [
    {
     "name": "stdout",
     "output_type": "stream",
     "text": [
      "30\n"
     ]
    }
   ],
   "source": [
    "print(n1+n2)"
   ]
  },
  {
   "cell_type": "code",
   "execution_count": 37,
   "id": "ab5c4e98-784d-4aae-bf2d-42c909bfb7ed",
   "metadata": {},
   "outputs": [
    {
     "data": {
      "text/plain": [
       "'hellopython'"
      ]
     },
     "execution_count": 37,
     "metadata": {},
     "output_type": "execute_result"
    }
   ],
   "source": [
    "st1='hellopython'\n",
    "st1"
   ]
  },
  {
   "cell_type": "code",
   "execution_count": 38,
   "id": "d76e863e-e91c-42c1-b4f3-d9a0fdadd21b",
   "metadata": {},
   "outputs": [
    {
     "data": {
      "text/plain": [
       "11"
      ]
     },
     "execution_count": 38,
     "metadata": {},
     "output_type": "execute_result"
    }
   ],
   "source": [
    "len(st1)"
   ]
  },
  {
   "cell_type": "code",
   "execution_count": 39,
   "id": "8513cd61-4f12-4f91-9bf9-d1837503ff4f",
   "metadata": {},
   "outputs": [
    {
     "name": "stdout",
     "output_type": "stream",
     "text": [
      "h\n",
      "e\n",
      "l\n",
      "l\n",
      "o\n",
      "p\n",
      "y\n",
      "t\n",
      "h\n",
      "o\n",
      "n\n"
     ]
    }
   ],
   "source": [
    "for i in st1:\n",
    "    print(i)"
   ]
  },
  {
   "cell_type": "code",
   "execution_count": 40,
   "id": "f4f67990-29a6-464c-b93d-4560d46c8815",
   "metadata": {},
   "outputs": [
    {
     "name": "stdout",
     "output_type": "stream",
     "text": [
      "(0, 'h')\n",
      "(1, 'e')\n",
      "(2, 'l')\n",
      "(3, 'l')\n",
      "(4, 'o')\n",
      "(5, 'p')\n",
      "(6, 'y')\n",
      "(7, 't')\n",
      "(8, 'h')\n",
      "(9, 'o')\n",
      "(10, 'n')\n"
     ]
    }
   ],
   "source": [
    "for i in enumerate(st1):\n",
    "    print(i)"
   ]
  },
  {
   "cell_type": "code",
   "execution_count": null,
   "id": "0b44d61f-0aa6-4b9e-9a24-aac060e59d14",
   "metadata": {},
   "outputs": [],
   "source": []
  }
 ],
 "metadata": {
  "kernelspec": {
   "display_name": "Python 3 (ipykernel)",
   "language": "python",
   "name": "python3"
  },
  "language_info": {
   "codemirror_mode": {
    "name": "ipython",
    "version": 3
   },
   "file_extension": ".py",
   "mimetype": "text/x-python",
   "name": "python",
   "nbconvert_exporter": "python",
   "pygments_lexer": "ipython3",
   "version": "3.12.4"
  }
 },
 "nbformat": 4,
 "nbformat_minor": 5
}
