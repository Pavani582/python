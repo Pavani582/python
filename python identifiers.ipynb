{
 "cells": [
  {
   "cell_type": "markdown",
   "id": "441b1d38-426c-445c-a520-0f156839225b",
   "metadata": {},
   "source": [
    "# python intro"
   ]
  },
  {
   "cell_type": "code",
   "execution_count": 1,
   "id": "b03b2e2f-e5cd-460d-b48c-4e2a3a7900e0",
   "metadata": {},
   "outputs": [
    {
     "data": {
      "text/plain": [
       "5"
      ]
     },
     "execution_count": 1,
     "metadata": {},
     "output_type": "execute_result"
    }
   ],
   "source": [
    "v=5\n",
    "v"
   ]
  },
  {
   "cell_type": "code",
   "execution_count": 2,
   "id": "39094241-66e4-460d-8a12-6273ba9af3f3",
   "metadata": {},
   "outputs": [
    {
     "data": {
      "text/plain": [
       "140708040882744"
      ]
     },
     "execution_count": 2,
     "metadata": {},
     "output_type": "execute_result"
    }
   ],
   "source": [
    "id(v)"
   ]
  },
  {
   "cell_type": "code",
   "execution_count": 3,
   "id": "bdf575a4-fa87-4632-8d61-1e0b7c0c0b19",
   "metadata": {},
   "outputs": [
    {
     "data": {
      "text/plain": [
       "5"
      ]
     },
     "execution_count": 3,
     "metadata": {},
     "output_type": "execute_result"
    }
   ],
   "source": [
    "i=5\n",
    "i"
   ]
  },
  {
   "cell_type": "code",
   "execution_count": 4,
   "id": "bea8049d-8ac9-4582-a9d6-4ccf21656a16",
   "metadata": {},
   "outputs": [
    {
     "name": "stdout",
     "output_type": "stream",
     "text": [
      "5\n",
      "5\n"
     ]
    }
   ],
   "source": [
    "print(i)\n",
    "print(v)"
   ]
  },
  {
   "cell_type": "code",
   "execution_count": 5,
   "id": "4ab4f6e3-a74b-4763-96ef-aaafe9a4ad99",
   "metadata": {},
   "outputs": [
    {
     "data": {
      "text/plain": [
       "140708040882744"
      ]
     },
     "execution_count": 5,
     "metadata": {},
     "output_type": "execute_result"
    }
   ],
   "source": [
    "id(i)"
   ]
  },
  {
   "cell_type": "code",
   "execution_count": 6,
   "id": "584a70ab-2ba6-40f1-958f-6ab8ee99ad98",
   "metadata": {},
   "outputs": [
    {
     "name": "stdout",
     "output_type": "stream",
     "text": [
      "140708040882744\n",
      "140708040882744\n"
     ]
    }
   ],
   "source": [
    "print(id(v))\n",
    "print(id(i))"
   ]
  },
  {
   "cell_type": "code",
   "execution_count": 7,
   "id": "342c627b-96f6-4c88-85ea-af1bd9d9ba02",
   "metadata": {},
   "outputs": [
    {
     "data": {
      "text/plain": [
       "6"
      ]
     },
     "execution_count": 7,
     "metadata": {},
     "output_type": "execute_result"
    }
   ],
   "source": [
    "o=6\n",
    "o"
   ]
  },
  {
   "cell_type": "code",
   "execution_count": 8,
   "id": "658d38bd-3253-44a2-a563-9c36263e50b6",
   "metadata": {},
   "outputs": [
    {
     "data": {
      "text/plain": [
       "140708040882776"
      ]
     },
     "execution_count": 8,
     "metadata": {},
     "output_type": "execute_result"
    }
   ],
   "source": [
    "id(o)"
   ]
  },
  {
   "cell_type": "code",
   "execution_count": 9,
   "id": "a7a058f0-d443-4c26-89a9-70d52ab94ef2",
   "metadata": {},
   "outputs": [
    {
     "name": "stdout",
     "output_type": "stream",
     "text": [
      "140708040882744\n",
      "140708040882744\n",
      "140708040882776\n"
     ]
    }
   ],
   "source": [
    "print(id(v))\n",
    "print(id(i))\n",
    "print(id(o))"
   ]
  },
  {
   "cell_type": "code",
   "execution_count": 10,
   "id": "3db7d422-82f6-46d3-8674-c9fe590a7a91",
   "metadata": {},
   "outputs": [
    {
     "ename": "SyntaxError",
     "evalue": "cannot assign to literal here. Maybe you meant '==' instead of '='? (2285942701.py, line 1)",
     "output_type": "error",
     "traceback": [
      "\u001b[1;36m  Cell \u001b[1;32mIn[10], line 1\u001b[1;36m\u001b[0m\n\u001b[1;33m    5=v\u001b[0m\n\u001b[1;37m    ^\u001b[0m\n\u001b[1;31mSyntaxError\u001b[0m\u001b[1;31m:\u001b[0m cannot assign to literal here. Maybe you meant '==' instead of '='?\n"
     ]
    }
   ],
   "source": [
    "5=v\n",
    "5"
   ]
  },
  {
   "cell_type": "code",
   "execution_count": 11,
   "id": "31e83a72-d817-4a29-8043-adfee429ba93",
   "metadata": {},
   "outputs": [
    {
     "data": {
      "text/plain": [
       "5"
      ]
     },
     "execution_count": 11,
     "metadata": {},
     "output_type": "execute_result"
    }
   ],
   "source": [
    "v=5\n",
    "v"
   ]
  },
  {
   "cell_type": "code",
   "execution_count": 12,
   "id": "9ffff218-3df5-4f5b-b361-74ac014ca885",
   "metadata": {},
   "outputs": [
    {
     "ename": "NameError",
     "evalue": "name 'ID' is not defined",
     "output_type": "error",
     "traceback": [
      "\u001b[1;31m---------------------------------------------------------------------------\u001b[0m",
      "\u001b[1;31mNameError\u001b[0m                                 Traceback (most recent call last)",
      "Cell \u001b[1;32mIn[12], line 1\u001b[0m\n\u001b[1;32m----> 1\u001b[0m ID(v)\n",
      "\u001b[1;31mNameError\u001b[0m: name 'ID' is not defined"
     ]
    }
   ],
   "source": [
    "ID(v)"
   ]
  },
  {
   "cell_type": "markdown",
   "id": "78426dcd-9266-421a-bd5d-48f308b8fd35",
   "metadata": {},
   "source": [
    "# identifiers rules"
   ]
  },
  {
   "cell_type": "markdown",
   "id": "eab209be-98a3-4727-b98a-2e23e3f43ec2",
   "metadata": {},
   "source": [
    "# 1-identifier is case sensitive"
   ]
  },
  {
   "cell_type": "code",
   "execution_count": 13,
   "id": "e5a60cb5-cbb8-4f81-8ce4-a954b4168412",
   "metadata": {},
   "outputs": [
    {
     "ename": "NameError",
     "evalue": "name 'NIT' is not defined",
     "output_type": "error",
     "traceback": [
      "\u001b[1;31m---------------------------------------------------------------------------\u001b[0m",
      "\u001b[1;31mNameError\u001b[0m                                 Traceback (most recent call last)",
      "Cell \u001b[1;32mIn[13], line 2\u001b[0m\n\u001b[0;32m      1\u001b[0m nit\u001b[38;5;241m=\u001b[39m\u001b[38;5;241m21\u001b[39m\n\u001b[1;32m----> 2\u001b[0m NIT\n",
      "\u001b[1;31mNameError\u001b[0m: name 'NIT' is not defined"
     ]
    }
   ],
   "source": [
    "nit=21\n",
    "NIT"
   ]
  },
  {
   "cell_type": "code",
   "execution_count": 14,
   "id": "dd436217-5c4c-4194-b9d6-fb979e7afbb8",
   "metadata": {},
   "outputs": [
    {
     "ename": "NameError",
     "evalue": "name 'Nit' is not defined",
     "output_type": "error",
     "traceback": [
      "\u001b[1;31m---------------------------------------------------------------------------\u001b[0m",
      "\u001b[1;31mNameError\u001b[0m                                 Traceback (most recent call last)",
      "Cell \u001b[1;32mIn[14], line 1\u001b[0m\n\u001b[1;32m----> 1\u001b[0m Nit\n",
      "\u001b[1;31mNameError\u001b[0m: name 'Nit' is not defined"
     ]
    }
   ],
   "source": [
    "Nit"
   ]
  },
  {
   "cell_type": "code",
   "execution_count": 15,
   "id": "b4fc3e92-1d74-4104-9bf1-5371383ca223",
   "metadata": {},
   "outputs": [
    {
     "data": {
      "text/plain": [
       "21"
      ]
     },
     "execution_count": 15,
     "metadata": {},
     "output_type": "execute_result"
    }
   ],
   "source": [
    "nit"
   ]
  },
  {
   "cell_type": "markdown",
   "id": "4f00e169-c230-42b7-b63c-bd4492c9d1c3",
   "metadata": {},
   "source": [
    "# 2-identifier never starts & ends with digit"
   ]
  },
  {
   "cell_type": "code",
   "execution_count": 16,
   "id": "44d2be2a-dacb-43be-9fe6-ddd0583b1db2",
   "metadata": {},
   "outputs": [
    {
     "ename": "SyntaxError",
     "evalue": "invalid decimal literal (2757592196.py, line 1)",
     "output_type": "error",
     "traceback": [
      "\u001b[1;36m  Cell \u001b[1;32mIn[16], line 1\u001b[1;36m\u001b[0m\n\u001b[1;33m    2v=50\u001b[0m\n\u001b[1;37m    ^\u001b[0m\n\u001b[1;31mSyntaxError\u001b[0m\u001b[1;31m:\u001b[0m invalid decimal literal\n"
     ]
    }
   ],
   "source": [
    "2v=50\n",
    "2v"
   ]
  },
  {
   "cell_type": "code",
   "execution_count": 17,
   "id": "eeadbe48-356f-4b85-b3b9-94e545e48411",
   "metadata": {},
   "outputs": [
    {
     "ename": "SyntaxError",
     "evalue": "invalid decimal literal (2753620076.py, line 1)",
     "output_type": "error",
     "traceback": [
      "\u001b[1;36m  Cell \u001b[1;32mIn[17], line 1\u001b[1;36m\u001b[0m\n\u001b[1;33m    v2=5v2\u001b[0m\n\u001b[1;37m       ^\u001b[0m\n\u001b[1;31mSyntaxError\u001b[0m\u001b[1;31m:\u001b[0m invalid decimal literal\n"
     ]
    }
   ],
   "source": [
    "v2=5v2"
   ]
  },
  {
   "cell_type": "markdown",
   "id": "122426b6-0413-458a-a56a-8b47a6bd0826",
   "metadata": {},
   "source": [
    "# 3-no specific character is allowed"
   ]
  },
  {
   "cell_type": "code",
   "execution_count": 18,
   "id": "f875153d-33a6-4e63-a09c-163cef0f3c7d",
   "metadata": {},
   "outputs": [
    {
     "ename": "SyntaxError",
     "evalue": "invalid syntax (3747477312.py, line 2)",
     "output_type": "error",
     "traceback": [
      "\u001b[1;36m  Cell \u001b[1;32mIn[18], line 2\u001b[1;36m\u001b[0m\n\u001b[1;33m    v3@\u001b[0m\n\u001b[1;37m       ^\u001b[0m\n\u001b[1;31mSyntaxError\u001b[0m\u001b[1;31m:\u001b[0m invalid syntax\n"
     ]
    }
   ],
   "source": [
    "v3@=90\n",
    "v3@"
   ]
  },
  {
   "cell_type": "code",
   "execution_count": 19,
   "id": "6f182b3a-7bf5-423c-916b-cc020073597d",
   "metadata": {},
   "outputs": [
    {
     "ename": "SyntaxError",
     "evalue": "invalid syntax (1698478022.py, line 2)",
     "output_type": "error",
     "traceback": [
      "\u001b[1;36m  Cell \u001b[1;32mIn[19], line 2\u001b[1;36m\u001b[0m\n\u001b[1;33m    v*\u001b[0m\n\u001b[1;37m      ^\u001b[0m\n\u001b[1;31mSyntaxError\u001b[0m\u001b[1;31m:\u001b[0m invalid syntax\n"
     ]
    }
   ],
   "source": [
    "v*=90\n",
    "v*"
   ]
  },
  {
   "cell_type": "markdown",
   "id": "bd4d808a-a6f7-47da-9520-e490935884e5",
   "metadata": {},
   "source": [
    "# 4-only _ is allowed"
   ]
  },
  {
   "cell_type": "code",
   "execution_count": 20,
   "id": "90a6fc34-0d62-4b78-b38f-200a39896c69",
   "metadata": {},
   "outputs": [
    {
     "data": {
      "text/plain": [
       "90"
      ]
     },
     "execution_count": 20,
     "metadata": {},
     "output_type": "execute_result"
    }
   ],
   "source": [
    "v3_=90\n",
    "v3_"
   ]
  },
  {
   "cell_type": "markdown",
   "id": "bc61c60b-4a3c-481c-9ac5-3bc4d78ecd2e",
   "metadata": {},
   "source": [
    "# 5-keyword will never be an identifier\n",
    "keyword=reverse word"
   ]
  },
  {
   "cell_type": "code",
   "execution_count": 21,
   "id": "bf930cdc-d52c-4c5e-8181-ae41f7c7efbc",
   "metadata": {},
   "outputs": [
    {
     "data": {
      "text/plain": [
       "['False',\n",
       " 'None',\n",
       " 'True',\n",
       " 'and',\n",
       " 'as',\n",
       " 'assert',\n",
       " 'async',\n",
       " 'await',\n",
       " 'break',\n",
       " 'class',\n",
       " 'continue',\n",
       " 'def',\n",
       " 'del',\n",
       " 'elif',\n",
       " 'else',\n",
       " 'except',\n",
       " 'finally',\n",
       " 'for',\n",
       " 'from',\n",
       " 'global',\n",
       " 'if',\n",
       " 'import',\n",
       " 'in',\n",
       " 'is',\n",
       " 'lambda',\n",
       " 'nonlocal',\n",
       " 'not',\n",
       " 'or',\n",
       " 'pass',\n",
       " 'raise',\n",
       " 'return',\n",
       " 'try',\n",
       " 'while',\n",
       " 'with',\n",
       " 'yield']"
      ]
     },
     "execution_count": 21,
     "metadata": {},
     "output_type": "execute_result"
    }
   ],
   "source": [
    "import keyword\n",
    "keyword.kwlist"
   ]
  },
  {
   "cell_type": "code",
   "execution_count": 22,
   "id": "2af40ca0-9f32-46d2-8e22-c1289761981b",
   "metadata": {},
   "outputs": [
    {
     "data": {
      "text/plain": [
       "35"
      ]
     },
     "execution_count": 22,
     "metadata": {},
     "output_type": "execute_result"
    }
   ],
   "source": [
    "len(keyword.kwlist)"
   ]
  },
  {
   "cell_type": "code",
   "execution_count": 23,
   "id": "a03fdc4f-8632-499a-845f-4a0130badc98",
   "metadata": {},
   "outputs": [
    {
     "ename": "SyntaxError",
     "evalue": "invalid syntax (1186363500.py, line 1)",
     "output_type": "error",
     "traceback": [
      "\u001b[1;36m  Cell \u001b[1;32mIn[23], line 1\u001b[1;36m\u001b[0m\n\u001b[1;33m    or=44\u001b[0m\n\u001b[1;37m    ^\u001b[0m\n\u001b[1;31mSyntaxError\u001b[0m\u001b[1;31m:\u001b[0m invalid syntax\n"
     ]
    }
   ],
   "source": [
    "or=44\n",
    "or"
   ]
  },
  {
   "cell_type": "code",
   "execution_count": 24,
   "id": "218ec332-c462-4cba-b037-0d262f3ff2e6",
   "metadata": {},
   "outputs": [
    {
     "ename": "SyntaxError",
     "evalue": "invalid syntax (3455163932.py, line 1)",
     "output_type": "error",
     "traceback": [
      "\u001b[1;36m  Cell \u001b[1;32mIn[24], line 1\u001b[1;36m\u001b[0m\n\u001b[1;33m    is=9\u001b[0m\n\u001b[1;37m    ^\u001b[0m\n\u001b[1;31mSyntaxError\u001b[0m\u001b[1;31m:\u001b[0m invalid syntax\n"
     ]
    }
   ],
   "source": [
    "is=9\n",
    "is"
   ]
  },
  {
   "cell_type": "code",
   "execution_count": 26,
   "id": "dc6360af-f635-42e6-b490-4c0ef7a0aa89",
   "metadata": {},
   "outputs": [
    {
     "data": {
      "text/plain": [
       "8"
      ]
     },
     "execution_count": 26,
     "metadata": {},
     "output_type": "execute_result"
    }
   ],
   "source": [
    "true=8\n",
    "true"
   ]
  },
  {
   "cell_type": "markdown",
   "id": "09dedc91-1189-40ed-b700-6373d7f9dd68",
   "metadata": {},
   "source": [
    "# 6-identifier has no lenght limit"
   ]
  },
  {
   "cell_type": "code",
   "execution_count": 29,
   "id": "c534977f-f71d-4463-826a-d69a204dbd63",
   "metadata": {},
   "outputs": [
    {
     "ename": "NameError",
     "evalue": "name 'vvv' is not defined",
     "output_type": "error",
     "traceback": [
      "\u001b[1;31m---------------------------------------------------------------------------\u001b[0m",
      "\u001b[1;31mNameError\u001b[0m                                 Traceback (most recent call last)",
      "Cell \u001b[1;32mIn[29], line 2\u001b[0m\n\u001b[0;32m      1\u001b[0m vvvvvvvvvvvvvvvvvvvvvvvvvvvvvvvvvvvvvvvvvvvvvvvvvvv\u001b[38;5;241m=\u001b[39m\u001b[38;5;241m100\u001b[39m\n\u001b[1;32m----> 2\u001b[0m vvv\n",
      "\u001b[1;31mNameError\u001b[0m: name 'vvv' is not defined"
     ]
    }
   ],
   "source": [
    "vvvvvvvvvvvvvvvvvvvvvvvvvvvvvvvvvvvvvvvvvvvvvvvvvvv=100\n",
    "vvv"
   ]
  },
  {
   "cell_type": "code",
   "execution_count": 30,
   "id": "a972c24c-1ca3-4857-9ac9-3db343ca21e6",
   "metadata": {},
   "outputs": [
    {
     "data": {
      "text/plain": [
       "100"
      ]
     },
     "execution_count": 30,
     "metadata": {},
     "output_type": "execute_result"
    }
   ],
   "source": [
    "vvvvvvvvvvvvvvvvvvvvvvvvvvvvvvvvvvvvvvvvvvvvvvvvvvvvvvvvv=100\n",
    "vvvvvvvvvvvvvvvvvvvvvvvvvvvvvvvvvvvvvvvvvvvvvvvvvvvvvvvvv"
   ]
  },
  {
   "cell_type": "markdown",
   "id": "631e63bd-3122-40bf-b173-863035bd19e4",
   "metadata": {},
   "source": [
    "# PYTHON IDENTIFIER=VALUE\n",
    "VALUE=INTEGER VALUE OR INT DATABASE===VALUE WITHOUT DECIMAL,\n",
    "       FLOAT VALUE OR FLOAT DATABSE===VALUE WITH DECIMAL"
   ]
  },
  {
   "cell_type": "markdown",
   "id": "473859ac-2f4e-4307-98b7-eec9d9d26509",
   "metadata": {},
   "source": [
    "# int"
   ]
  },
  {
   "cell_type": "code",
   "execution_count": 31,
   "id": "08e1d3fe-f313-444b-a2eb-1677c79a5246",
   "metadata": {},
   "outputs": [
    {
     "data": {
      "text/plain": [
       "3"
      ]
     },
     "execution_count": 31,
     "metadata": {},
     "output_type": "execute_result"
    }
   ],
   "source": [
    "i=3\n",
    "i"
   ]
  },
  {
   "cell_type": "code",
   "execution_count": 32,
   "id": "e446a308-6c59-4c7c-80de-0d97a59a7162",
   "metadata": {},
   "outputs": [
    {
     "data": {
      "text/plain": [
       "int"
      ]
     },
     "execution_count": 32,
     "metadata": {},
     "output_type": "execute_result"
    }
   ],
   "source": [
    "type(i)"
   ]
  },
  {
   "cell_type": "code",
   "execution_count": 33,
   "id": "272e84c9-3521-4f4a-a887-6f743c875b04",
   "metadata": {},
   "outputs": [
    {
     "name": "stdout",
     "output_type": "stream",
     "text": [
      "<class 'int'>\n"
     ]
    }
   ],
   "source": [
    "print(type(i))"
   ]
  },
  {
   "cell_type": "markdown",
   "id": "a0668d47-47ba-4f75-84c0-fac96d60bae4",
   "metadata": {},
   "source": [
    "# float"
   ]
  },
  {
   "cell_type": "code",
   "execution_count": 34,
   "id": "de0a6189-c41d-4f13-9ff9-5960f46e58d4",
   "metadata": {},
   "outputs": [
    {
     "data": {
      "text/plain": [
       "110.45"
      ]
     },
     "execution_count": 34,
     "metadata": {},
     "output_type": "execute_result"
    }
   ],
   "source": [
    "petrol=110.45\n",
    "petrol"
   ]
  },
  {
   "cell_type": "code",
   "execution_count": 35,
   "id": "ec5ad5b4-08ab-4689-b2a8-3e1646d9eb01",
   "metadata": {},
   "outputs": [
    {
     "data": {
      "text/plain": [
       "float"
      ]
     },
     "execution_count": 35,
     "metadata": {},
     "output_type": "execute_result"
    }
   ],
   "source": [
    "type(petrol)"
   ]
  },
  {
   "cell_type": "code",
   "execution_count": 36,
   "id": "61165531-4398-49ed-aee4-9e44fc643688",
   "metadata": {},
   "outputs": [
    {
     "name": "stdout",
     "output_type": "stream",
     "text": [
      "<class 'float'>\n"
     ]
    }
   ],
   "source": [
    "print(type(petrol))"
   ]
  },
  {
   "cell_type": "code",
   "execution_count": 37,
   "id": "d14d37e1-b262-401e-bf59-e77f7821e160",
   "metadata": {},
   "outputs": [
    {
     "data": {
      "text/plain": [
       "2.0"
      ]
     },
     "execution_count": 37,
     "metadata": {},
     "output_type": "execute_result"
    }
   ],
   "source": [
    "f=2e0\n",
    "f"
   ]
  },
  {
   "cell_type": "code",
   "execution_count": 38,
   "id": "09d82dfa-11b3-4db9-9971-7184f3f6b47b",
   "metadata": {},
   "outputs": [
    {
     "ename": "SyntaxError",
     "evalue": "invalid decimal literal (3180706526.py, line 1)",
     "output_type": "error",
     "traceback": [
      "\u001b[1;36m  Cell \u001b[1;32mIn[38], line 1\u001b[1;36m\u001b[0m\n\u001b[1;33m    f1=30e\u001b[0m\n\u001b[1;37m        ^\u001b[0m\n\u001b[1;31mSyntaxError\u001b[0m\u001b[1;31m:\u001b[0m invalid decimal literal\n"
     ]
    }
   ],
   "source": [
    "f1=30e\n",
    "f1"
   ]
  },
  {
   "cell_type": "code",
   "execution_count": 39,
   "id": "25d60c75-d2d0-4ec5-ad57-cc53dc64a696",
   "metadata": {},
   "outputs": [
    {
     "data": {
      "text/plain": [
       "300.0"
      ]
     },
     "execution_count": 39,
     "metadata": {},
     "output_type": "execute_result"
    }
   ],
   "source": [
    "f2=3e2\n",
    "f2"
   ]
  },
  {
   "cell_type": "code",
   "execution_count": 41,
   "id": "97474e91-eb84-4294-91f0-7d0fbf52d2eb",
   "metadata": {},
   "outputs": [
    {
     "data": {
      "text/plain": [
       "2400.0"
      ]
     },
     "execution_count": 41,
     "metadata": {},
     "output_type": "execute_result"
    }
   ],
   "source": [
    "f3=2.4e3\n",
    "f3"
   ]
  },
  {
   "cell_type": "code",
   "execution_count": 42,
   "id": "85364a54-5a78-4736-9c5c-5f327be1e6ed",
   "metadata": {},
   "outputs": [
    {
     "data": {
      "text/plain": [
       "float"
      ]
     },
     "execution_count": 42,
     "metadata": {},
     "output_type": "execute_result"
    }
   ],
   "source": [
    "type(f3)"
   ]
  },
  {
   "cell_type": "markdown",
   "id": "3fb2d556-60f3-41f8-8d90-0863ef53f7df",
   "metadata": {},
   "source": [
    "# string"
   ]
  },
  {
   "cell_type": "code",
   "execution_count": 43,
   "id": "bff921ff-38e5-4a94-b4cf-abc2bd10abb2",
   "metadata": {},
   "outputs": [
    {
     "data": {
      "text/plain": [
       "'nit'"
      ]
     },
     "execution_count": 43,
     "metadata": {},
     "output_type": "execute_result"
    }
   ],
   "source": [
    "s='nit'\n",
    "s"
   ]
  },
  {
   "cell_type": "code",
   "execution_count": 44,
   "id": "cf7130c9-53f9-4a7e-aa05-8b37b63462da",
   "metadata": {},
   "outputs": [
    {
     "data": {
      "text/plain": [
       "'nit'"
      ]
     },
     "execution_count": 44,
     "metadata": {},
     "output_type": "execute_result"
    }
   ],
   "source": [
    "s1=\"nit\"\n",
    "s1"
   ]
  },
  {
   "cell_type": "code",
   "execution_count": 45,
   "id": "c663234a-1f9c-42ce-9b56-155651dbfc47",
   "metadata": {},
   "outputs": [
    {
     "data": {
      "text/plain": [
       "'nit'"
      ]
     },
     "execution_count": 45,
     "metadata": {},
     "output_type": "execute_result"
    }
   ],
   "source": [
    "s2='''nit'''\n",
    "s2"
   ]
  },
  {
   "cell_type": "code",
   "execution_count": 46,
   "id": "3415cca6-8e67-4584-99ca-5a4a3ca6bc35",
   "metadata": {},
   "outputs": [
    {
     "ename": "SyntaxError",
     "evalue": "unterminated string literal (detected at line 1) (1370091314.py, line 1)",
     "output_type": "error",
     "traceback": [
      "\u001b[1;36m  Cell \u001b[1;32mIn[46], line 1\u001b[1;36m\u001b[0m\n\u001b[1;33m    s3='nit\u001b[0m\n\u001b[1;37m       ^\u001b[0m\n\u001b[1;31mSyntaxError\u001b[0m\u001b[1;31m:\u001b[0m unterminated string literal (detected at line 1)\n"
     ]
    }
   ],
   "source": [
    "s3='nit\n",
    "       tech'\n",
    "s3"
   ]
  },
  {
   "cell_type": "code",
   "execution_count": 47,
   "id": "f38e5e26-71b7-4f31-bead-f25968164c9c",
   "metadata": {},
   "outputs": [
    {
     "ename": "SyntaxError",
     "evalue": "unterminated string literal (detected at line 1) (484967121.py, line 1)",
     "output_type": "error",
     "traceback": [
      "\u001b[1;36m  Cell \u001b[1;32mIn[47], line 1\u001b[1;36m\u001b[0m\n\u001b[1;33m    s4=\"nit\u001b[0m\n\u001b[1;37m       ^\u001b[0m\n\u001b[1;31mSyntaxError\u001b[0m\u001b[1;31m:\u001b[0m unterminated string literal (detected at line 1)\n"
     ]
    }
   ],
   "source": [
    "s4=\"nit\n",
    "       tech\"\n",
    "s4"
   ]
  },
  {
   "cell_type": "code",
   "execution_count": 49,
   "id": "852a4871-a496-4616-a231-f8247592e18e",
   "metadata": {},
   "outputs": [
    {
     "data": {
      "text/plain": [
       "'nit\\n         tech'"
      ]
     },
     "execution_count": 49,
     "metadata": {},
     "output_type": "execute_result"
    }
   ],
   "source": [
    "s5='''nit\n",
    "         tech'''\n",
    "s5"
   ]
  },
  {
   "cell_type": "markdown",
   "id": "b5939671-7711-4143-a9b1-b3fce0e81ee5",
   "metadata": {},
   "source": [
    "# ''' ''' can be used for multiline comments"
   ]
  },
  {
   "cell_type": "markdown",
   "id": "0644a766-7280-4c8c-a2d4-743b9950145b",
   "metadata": {},
   "source": [
    "# boolean"
   ]
  },
  {
   "cell_type": "code",
   "execution_count": 50,
   "id": "37fcba86-35d2-44ef-bcec-d0677eda7cdf",
   "metadata": {},
   "outputs": [
    {
     "data": {
      "text/plain": [
       "['False',\n",
       " 'None',\n",
       " 'True',\n",
       " 'and',\n",
       " 'as',\n",
       " 'assert',\n",
       " 'async',\n",
       " 'await',\n",
       " 'break',\n",
       " 'class',\n",
       " 'continue',\n",
       " 'def',\n",
       " 'del',\n",
       " 'elif',\n",
       " 'else',\n",
       " 'except',\n",
       " 'finally',\n",
       " 'for',\n",
       " 'from',\n",
       " 'global',\n",
       " 'if',\n",
       " 'import',\n",
       " 'in',\n",
       " 'is',\n",
       " 'lambda',\n",
       " 'nonlocal',\n",
       " 'not',\n",
       " 'or',\n",
       " 'pass',\n",
       " 'raise',\n",
       " 'return',\n",
       " 'try',\n",
       " 'while',\n",
       " 'with',\n",
       " 'yield']"
      ]
     },
     "execution_count": 50,
     "metadata": {},
     "output_type": "execute_result"
    }
   ],
   "source": [
    "import keyword\n",
    "keyword.kwlist"
   ]
  },
  {
   "cell_type": "code",
   "execution_count": 51,
   "id": "f167b2b2-3f35-4c24-afe9-75b8e5248abb",
   "metadata": {},
   "outputs": [
    {
     "data": {
      "text/plain": [
       "True"
      ]
     },
     "execution_count": 51,
     "metadata": {},
     "output_type": "execute_result"
    }
   ],
   "source": [
    "b=True\n",
    "b"
   ]
  },
  {
   "cell_type": "code",
   "execution_count": 52,
   "id": "5c942f3b-3107-4855-9ee0-29ecbef9ac07",
   "metadata": {},
   "outputs": [
    {
     "data": {
      "text/plain": [
       "bool"
      ]
     },
     "execution_count": 52,
     "metadata": {},
     "output_type": "execute_result"
    }
   ],
   "source": [
    "type(b)"
   ]
  },
  {
   "cell_type": "code",
   "execution_count": 53,
   "id": "6a430941-3a5b-4b2e-b94b-c9d0847a44b4",
   "metadata": {},
   "outputs": [
    {
     "data": {
      "text/plain": [
       "False"
      ]
     },
     "execution_count": 53,
     "metadata": {},
     "output_type": "execute_result"
    }
   ],
   "source": [
    "b1=False\n",
    "b1"
   ]
  },
  {
   "cell_type": "code",
   "execution_count": 54,
   "id": "1babb945-a84d-479d-9294-6f383ed74fa0",
   "metadata": {},
   "outputs": [
    {
     "data": {
      "text/plain": [
       "bool"
      ]
     },
     "execution_count": 54,
     "metadata": {},
     "output_type": "execute_result"
    }
   ],
   "source": [
    "type(b1)"
   ]
  },
  {
   "cell_type": "code",
   "execution_count": 55,
   "id": "77edc69a-1231-4cbc-91fa-f8d95cb7d77e",
   "metadata": {},
   "outputs": [
    {
     "data": {
      "text/plain": [
       "1"
      ]
     },
     "execution_count": 55,
     "metadata": {},
     "output_type": "execute_result"
    }
   ],
   "source": [
    "True+False"
   ]
  },
  {
   "cell_type": "code",
   "execution_count": 56,
   "id": "5f2531b2-895b-43b1-a24f-6443d096217f",
   "metadata": {},
   "outputs": [
    {
     "data": {
      "text/plain": [
       "1"
      ]
     },
     "execution_count": 56,
     "metadata": {},
     "output_type": "execute_result"
    }
   ],
   "source": [
    "True-False"
   ]
  },
  {
   "cell_type": "code",
   "execution_count": 57,
   "id": "cf78eec6-9108-4428-b1bc-a205a45e4aed",
   "metadata": {},
   "outputs": [
    {
     "data": {
      "text/plain": [
       "1"
      ]
     },
     "execution_count": 57,
     "metadata": {},
     "output_type": "execute_result"
    }
   ],
   "source": [
    "int(True)"
   ]
  },
  {
   "cell_type": "code",
   "execution_count": 58,
   "id": "9bd2103c-d765-4325-9c8a-9b73f937b579",
   "metadata": {},
   "outputs": [
    {
     "data": {
      "text/plain": [
       "0"
      ]
     },
     "execution_count": 58,
     "metadata": {},
     "output_type": "execute_result"
    }
   ],
   "source": [
    "int(False)"
   ]
  },
  {
   "cell_type": "code",
   "execution_count": 59,
   "id": "5b6ae15a-e03c-41da-a68e-dcd3c943e3b6",
   "metadata": {},
   "outputs": [
    {
     "data": {
      "text/plain": [
       "1"
      ]
     },
     "execution_count": 59,
     "metadata": {},
     "output_type": "execute_result"
    }
   ],
   "source": [
    "True*True-False+False*True"
   ]
  },
  {
   "cell_type": "code",
   "execution_count": 60,
   "id": "dc096f54-1db5-4c5b-afd0-7063c8c9d99d",
   "metadata": {},
   "outputs": [
    {
     "data": {
      "text/plain": [
       "0"
      ]
     },
     "execution_count": 60,
     "metadata": {},
     "output_type": "execute_result"
    }
   ],
   "source": [
    "False*True"
   ]
  },
  {
   "cell_type": "code",
   "execution_count": 61,
   "id": "6f443101-3d3b-42d4-9a49-969e02410f61",
   "metadata": {},
   "outputs": [
    {
     "data": {
      "text/plain": [
       "0.0"
      ]
     },
     "execution_count": 61,
     "metadata": {},
     "output_type": "execute_result"
    }
   ],
   "source": [
    "False/True"
   ]
  },
  {
   "cell_type": "code",
   "execution_count": 62,
   "id": "1996129f-366c-4249-b259-8f79eebe1a56",
   "metadata": {},
   "outputs": [
    {
     "data": {
      "text/plain": [
       "0"
      ]
     },
     "execution_count": 62,
     "metadata": {},
     "output_type": "execute_result"
    }
   ],
   "source": [
    "False//True"
   ]
  },
  {
   "cell_type": "code",
   "execution_count": 63,
   "id": "56906258-6ae6-45b8-b717-0da9bef889c0",
   "metadata": {},
   "outputs": [
    {
     "ename": "ZeroDivisionError",
     "evalue": "division by zero",
     "output_type": "error",
     "traceback": [
      "\u001b[1;31m---------------------------------------------------------------------------\u001b[0m",
      "\u001b[1;31mZeroDivisionError\u001b[0m                         Traceback (most recent call last)",
      "Cell \u001b[1;32mIn[63], line 1\u001b[0m\n\u001b[1;32m----> 1\u001b[0m \u001b[38;5;28;01mTrue\u001b[39;00m\u001b[38;5;241m/\u001b[39m\u001b[38;5;28;01mFalse\u001b[39;00m\n",
      "\u001b[1;31mZeroDivisionError\u001b[0m: division by zero"
     ]
    }
   ],
   "source": [
    "True/False"
   ]
  },
  {
   "cell_type": "markdown",
   "id": "ca10a5ee-4cf8-46a1-97d4-985666fd44a6",
   "metadata": {},
   "source": [
    "## complex=a+bj"
   ]
  },
  {
   "cell_type": "code",
   "execution_count": 64,
   "id": "949d25e5-e314-4c8d-9052-6ec9d794eb52",
   "metadata": {},
   "outputs": [
    {
     "data": {
      "text/plain": [
       "(2+3j)"
      ]
     },
     "execution_count": 64,
     "metadata": {},
     "output_type": "execute_result"
    }
   ],
   "source": [
    "c=2+3j\n",
    "c"
   ]
  },
  {
   "cell_type": "code",
   "execution_count": 65,
   "id": "19afd126-f9ce-4fda-84dd-1b8e7eb1146a",
   "metadata": {},
   "outputs": [
    {
     "data": {
      "text/plain": [
       "complex"
      ]
     },
     "execution_count": 65,
     "metadata": {},
     "output_type": "execute_result"
    }
   ],
   "source": [
    "type(c)"
   ]
  },
  {
   "cell_type": "code",
   "execution_count": 66,
   "id": "f3a9eaee-7fa8-4c92-a6b2-f9b75bd4d7f9",
   "metadata": {},
   "outputs": [
    {
     "data": {
      "text/plain": [
       "(3+0j)"
      ]
     },
     "execution_count": 66,
     "metadata": {},
     "output_type": "execute_result"
    }
   ],
   "source": [
    "d=3+0j\n",
    "d"
   ]
  },
  {
   "cell_type": "code",
   "execution_count": 67,
   "id": "ada42cca-355f-476a-8f46-43fec20c6d49",
   "metadata": {},
   "outputs": [
    {
     "data": {
      "text/plain": [
       "(5+3j)"
      ]
     },
     "execution_count": 67,
     "metadata": {},
     "output_type": "execute_result"
    }
   ],
   "source": [
    "c+d"
   ]
  },
  {
   "cell_type": "code",
   "execution_count": null,
   "id": "f702d328-b371-42c9-b475-fd3204c84d97",
   "metadata": {},
   "outputs": [],
   "source": []
  }
 ],
 "metadata": {
  "kernelspec": {
   "display_name": "Python 3 (ipykernel)",
   "language": "python",
   "name": "python3"
  },
  "language_info": {
   "codemirror_mode": {
    "name": "ipython",
    "version": 3
   },
   "file_extension": ".py",
   "mimetype": "text/x-python",
   "name": "python",
   "nbconvert_exporter": "python",
   "pygments_lexer": "ipython3",
   "version": "3.12.4"
  }
 },
 "nbformat": 4,
 "nbformat_minor": 5
}
