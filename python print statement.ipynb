{
 "cells": [
  {
   "cell_type": "code",
   "execution_count": 1,
   "id": "b2136cd5-aec4-46e2-9191-49a43f783905",
   "metadata": {},
   "outputs": [
    {
     "data": {
      "text/plain": [
       "20"
      ]
     },
     "execution_count": 1,
     "metadata": {},
     "output_type": "execute_result"
    }
   ],
   "source": [
    "a=10\n",
    "b=20\n",
    "a\n",
    "b"
   ]
  },
  {
   "cell_type": "code",
   "execution_count": 2,
   "id": "b1120c55-7bfc-4f97-b9e4-38bca405f08d",
   "metadata": {},
   "outputs": [
    {
     "name": "stdout",
     "output_type": "stream",
     "text": [
      "10\n",
      "20\n"
     ]
    }
   ],
   "source": [
    "a=10\n",
    "b=20\n",
    "print(a)\n",
    "print(b)"
   ]
  },
  {
   "cell_type": "code",
   "execution_count": 3,
   "id": "f55eff35-579e-4328-b2f6-efe19b387200",
   "metadata": {},
   "outputs": [
    {
     "name": "stdout",
     "output_type": "stream",
     "text": [
      "10\n",
      "10 20\n",
      "python\n",
      "10 20 python\n"
     ]
    }
   ],
   "source": [
    "print(10)\n",
    "print(10,20)\n",
    "print('python')\n",
    "print(10,20,'python')"
   ]
  },
  {
   "cell_type": "code",
   "execution_count": 4,
   "id": "54e5b437-d031-40e1-9896-3e5dd08ac886",
   "metadata": {},
   "outputs": [
    {
     "name": "stdout",
     "output_type": "stream",
     "text": [
      "50\n"
     ]
    }
   ],
   "source": [
    "num1=20\n",
    "num2=30\n",
    "add=num1+num2\n",
    "print(add)"
   ]
  },
  {
   "cell_type": "markdown",
   "id": "55da4a9b-ae59-48ed-ba81-1c14c486b0e7",
   "metadata": {},
   "source": [
    "# PRINT RESULT WITH STRING"
   ]
  },
  {
   "cell_type": "code",
   "execution_count": 5,
   "id": "0fb4a0e5-8d5f-4718-9ae8-1a5c5e66acf3",
   "metadata": {},
   "outputs": [
    {
     "name": "stdout",
     "output_type": "stream",
     "text": [
      "The addition of 20 and 30 is= 50\n"
     ]
    }
   ],
   "source": [
    "num1=20\n",
    "num2=30\n",
    "add=num1+num2\n",
    "print('The addition of',num1,'and',num2,'is=',add)"
   ]
  },
  {
   "cell_type": "code",
   "execution_count": 6,
   "id": "6c057b6f-4927-4ab3-b2b8-bca9be2e5d01",
   "metadata": {},
   "outputs": [
    {
     "name": "stdout",
     "output_type": "stream",
     "text": [
      "My name is python and i am 20 years old from hyd\n"
     ]
    }
   ],
   "source": [
    "name='python'\n",
    "age=20\n",
    "city='hyd'\n",
    "print('My name is',name,'and i am',age,'years old from',city)"
   ]
  },
  {
   "cell_type": "markdown",
   "id": "0f7ad588-6ae0-42e7-bc9e-3750a4e94991",
   "metadata": {},
   "source": [
    "# PRINT FORMAT METHOD"
   ]
  },
  {
   "cell_type": "code",
   "execution_count": 7,
   "id": "fa95d07d-2ce5-4ef2-8b28-d955f3c102fc",
   "metadata": {},
   "outputs": [
    {
     "name": "stdout",
     "output_type": "stream",
     "text": [
      "The addition of 20 and 30 is=50\n"
     ]
    }
   ],
   "source": [
    "num1=20\n",
    "num2=30\n",
    "add=num1+num2\n",
    "print('The addition of {} and {} is={}'.format(num1,num2,add))"
   ]
  },
  {
   "cell_type": "code",
   "execution_count": 8,
   "id": "eacf8e2a-8b77-490e-b257-a75d9052e15e",
   "metadata": {},
   "outputs": [
    {
     "name": "stdout",
     "output_type": "stream",
     "text": [
      "My name is python and i am 20 years old from hyd\n"
     ]
    }
   ],
   "source": [
    "name='python'\n",
    "age=20\n",
    "city='hyd'\n",
    "print('My name is {} and i am {} years old from {}'.format(name,age,city))"
   ]
  },
  {
   "cell_type": "code",
   "execution_count": 10,
   "id": "78652255-9c0f-416b-bb72-07b06ddbd6af",
   "metadata": {},
   "outputs": [
    {
     "name": "stdout",
     "output_type": "stream",
     "text": [
      "The average of 100, 25, and 333 is= 152.66666666666666 or 152.67\n"
     ]
    }
   ],
   "source": [
    "num1=100\n",
    "num2=25\n",
    "num3=333\n",
    "avg=(num1+num2+num3)/3\n",
    "avg1=round((num1+num2+num3)/3,2)\n",
    "print('The average of {}, {}, and {} is= {} or {}'.format(num1,num2,num3,avg,avg1))"
   ]
  },
  {
   "cell_type": "code",
   "execution_count": 11,
   "id": "bf6af2b6-ed37-418c-831d-f97c1f15e07a",
   "metadata": {},
   "outputs": [
    {
     "data": {
      "text/plain": [
       "152.66666666666666"
      ]
     },
     "execution_count": 11,
     "metadata": {},
     "output_type": "execute_result"
    }
   ],
   "source": [
    "avg"
   ]
  },
  {
   "cell_type": "code",
   "execution_count": 12,
   "id": "329c9c91-04a1-4e11-b6dd-956fb3562c48",
   "metadata": {},
   "outputs": [
    {
     "data": {
      "text/plain": [
       "152.67"
      ]
     },
     "execution_count": 12,
     "metadata": {},
     "output_type": "execute_result"
    }
   ],
   "source": [
    "avg1"
   ]
  },
  {
   "cell_type": "markdown",
   "id": "df53ffe9-71c3-4b2f-b812-1867e1e01e8c",
   "metadata": {},
   "source": [
    "# more short format methods\n",
    "# f string method"
   ]
  },
  {
   "cell_type": "code",
   "execution_count": 14,
   "id": "66c42937-240b-4ba8-a846-fa26210ea6fa",
   "metadata": {},
   "outputs": [
    {
     "name": "stdout",
     "output_type": "stream",
     "text": [
      "The addition of 20 and 30 is= 50\n"
     ]
    }
   ],
   "source": [
    "num1=20\n",
    "num2=30\n",
    "add=num1+num2\n",
    "print(f'The addition of {num1} and {num2} is= {add}')"
   ]
  },
  {
   "cell_type": "code",
   "execution_count": 15,
   "id": "915b2180-64e1-4094-87a5-de30a297efcd",
   "metadata": {},
   "outputs": [
    {
     "name": "stdout",
     "output_type": "stream",
     "text": [
      "My name is python and i am 20 years old from hyd\n"
     ]
    }
   ],
   "source": [
    "name='python'\n",
    "age=20\n",
    "city='hyd'\n",
    "print(f'My name is {name} and i am {age} years old from {city}')"
   ]
  },
  {
   "cell_type": "code",
   "execution_count": 16,
   "id": "59c4c7e8-9221-4d6a-b3dd-87863e35c231",
   "metadata": {},
   "outputs": [
    {
     "name": "stdout",
     "output_type": "stream",
     "text": [
      "The average of 100, 25 and 333 is = 152.67\n"
     ]
    }
   ],
   "source": [
    "num1=100\n",
    "num2=25\n",
    "num3=333\n",
    "avg=round((num1+num2+num3)/3,2)\n",
    "print(f'The average of {num1}, {num2} and {num3} is = {avg}')"
   ]
  },
  {
   "cell_type": "code",
   "execution_count": 20,
   "id": "09bcd152-c972-4075-bf2b-259d54abef20",
   "metadata": {},
   "outputs": [
    {
     "name": "stdout",
     "output_type": "stream",
     "text": [
      "The addition of 10 and 20 is= 30\n",
      "The addition of 10 and 20 is 30\n",
      "The addition of 10 and 20 is = 30\n"
     ]
    }
   ],
   "source": [
    "#lets combine all \n",
    "num1=10\n",
    "num2=20\n",
    "add=num1+num2\n",
    "print('The addition of',num1,'and',num2,'is=',add)\n",
    "print('The addition of {} and {} is {}'.format(num1,num2,add))\n",
    "print(f'The addition of {num1} and {num2} is = {add}')"
   ]
  },
  {
   "cell_type": "markdown",
   "id": "504847b3-b802-4ee5-8084-4fd2bb40a4ea",
   "metadata": {},
   "source": [
    "# END STATEMENT"
   ]
  },
  {
   "cell_type": "code",
   "execution_count": 21,
   "id": "18ef0573-8e5f-454d-99dc-6d3c9d069dd8",
   "metadata": {},
   "outputs": [
    {
     "name": "stdout",
     "output_type": "stream",
     "text": [
      "hello\n",
      "good morning\n"
     ]
    }
   ],
   "source": [
    "print('hello')\n",
    "print('good morning')"
   ]
  },
  {
   "cell_type": "code",
   "execution_count": 22,
   "id": "bc250f5b-c2f8-46a0-8522-88c163cf3215",
   "metadata": {},
   "outputs": [],
   "source": [
    "#here we will use end statement that join line from end of one string to starting of other string"
   ]
  },
  {
   "cell_type": "code",
   "execution_count": 23,
   "id": "517b7cc7-39f4-4beb-a83c-d4d34a8138ea",
   "metadata": {},
   "outputs": [
    {
     "name": "stdout",
     "output_type": "stream",
     "text": [
      "hello world good day\n"
     ]
    }
   ],
   "source": [
    "print('hello', end=' ')\n",
    "print('world good day')"
   ]
  },
  {
   "cell_type": "markdown",
   "id": "ed6fa088-c505-426e-a89e-9662e9a05122",
   "metadata": {},
   "source": [
    "# SEPARATOR"
   ]
  },
  {
   "cell_type": "code",
   "execution_count": 24,
   "id": "4a5d8852-88d9-49f0-8662-f4762e64e924",
   "metadata": {},
   "outputs": [],
   "source": [
    "#here one print statement only we use\n",
    "#inside one print statement we have multiple values\n",
    "#we want to separate these multiple values with anything"
   ]
  },
  {
   "cell_type": "code",
   "execution_count": 25,
   "id": "7655c00d-5493-4752-928e-6c6de711c969",
   "metadata": {},
   "outputs": [
    {
     "name": "stdout",
     "output_type": "stream",
     "text": [
      "hello--->hai--->how are you\n"
     ]
    }
   ],
   "source": [
    "print('hello','hai','how are you',sep='--->')"
   ]
  },
  {
   "cell_type": "code",
   "execution_count": 26,
   "id": "6c16a791-26a0-49b6-b42a-854cfd429c8e",
   "metadata": {},
   "outputs": [
    {
     "name": "stdout",
     "output_type": "stream",
     "text": [
      "hello&hai&how are you\n"
     ]
    }
   ],
   "source": [
    "print('hello','hai','how are you', sep='&')"
   ]
  },
  {
   "cell_type": "code",
   "execution_count": 27,
   "id": "6ab8fa6d-5dc4-4742-9c79-53abaa172b37",
   "metadata": {},
   "outputs": [
    {
     "name": "stdout",
     "output_type": "stream",
     "text": [
      "hello@#hai@#how are you\n"
     ]
    }
   ],
   "source": [
    "print('hello','hai', 'how are you', sep='@#')"
   ]
  },
  {
   "cell_type": "code",
   "execution_count": 28,
   "id": "cae70b93-0e57-43ad-accf-5bdae564ed02",
   "metadata": {},
   "outputs": [
    {
     "name": "stdout",
     "output_type": "stream",
     "text": [
      "3 .\n"
     ]
    }
   ],
   "source": [
    "print(3, '.')"
   ]
  },
  {
   "cell_type": "code",
   "execution_count": 29,
   "id": "cde120a8-746c-4e23-803d-d955a88e0416",
   "metadata": {},
   "outputs": [
    {
     "name": "stdout",
     "output_type": "stream",
     "text": [
      "3 .\n"
     ]
    }
   ],
   "source": [
    "print(3,'.', sep=' ')"
   ]
  },
  {
   "cell_type": "code",
   "execution_count": 31,
   "id": "9aa5baf5-2b0c-4d04-83e1-fc29b0e8ef85",
   "metadata": {},
   "outputs": [
    {
     "name": "stdout",
     "output_type": "stream",
     "text": [
      "1 2 3.\n"
     ]
    }
   ],
   "source": [
    "print(1,2,end=' ')\n",
    "print(3,'.',sep='')"
   ]
  },
  {
   "cell_type": "code",
   "execution_count": null,
   "id": "8af16e54-1dc5-4940-bf85-dca069955279",
   "metadata": {},
   "outputs": [],
   "source": []
  }
 ],
 "metadata": {
  "kernelspec": {
   "display_name": "Python 3 (ipykernel)",
   "language": "python",
   "name": "python3"
  },
  "language_info": {
   "codemirror_mode": {
    "name": "ipython",
    "version": 3
   },
   "file_extension": ".py",
   "mimetype": "text/x-python",
   "name": "python",
   "nbconvert_exporter": "python",
   "pygments_lexer": "ipython3",
   "version": "3.12.4"
  }
 },
 "nbformat": 4,
 "nbformat_minor": 5
}
